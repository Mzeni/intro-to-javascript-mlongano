{
 "cells": [
  {
   "cell_type": "code",
   "execution_count": 3,
   "metadata": {},
   "outputs": [
    {
     "name": "stdout",
     "output_type": "stream",
     "text": [
      "Hello, World!\n"
     ]
    }
   ],
   "source": [
    "console.log('Hello, World!');"
   ]
  },
  {
   "cell_type": "code",
   "execution_count": 4,
   "metadata": {},
   "outputs": [
    {
     "name": "stdout",
     "output_type": "stream",
     "text": [
      "Hello\n"
     ]
    }
   ],
   "source": [
    "console.log('Hello');"
   ]
  },
  {
   "cell_type": "code",
   "execution_count": 5,
   "metadata": {},
   "outputs": [
    {
     "name": "stdout",
     "output_type": "stream",
     "text": [
      "30 31\n"
     ]
    }
   ],
   "source": [
    "let age = 30;\n",
    "let age1 = age;\n",
    "\n",
    "age1 = 31;\n",
    "\n",
    "console.log(age, age1)"
   ]
  },
  {
   "cell_type": "code",
   "execution_count": 6,
   "metadata": {},
   "outputs": [
    {
     "data": {
      "text/plain": [
       "\u001b[32m\"hell\"\u001b[39m"
      ]
     },
     "execution_count": 6,
     "metadata": {},
     "output_type": "execute_result"
    }
   ],
   "source": [
    "let immutable =\"hello\";\n",
    "\n",
    "//typeof immutable //controlla il tipo di variabile\n",
    "\n",
    "//immutable.length\n",
    "\n",
    "immutable.slice(0,4); "
   ]
  },
  {
   "cell_type": "code",
   "execution_count": 7,
   "metadata": {},
   "outputs": [
    {
     "name": "stdout",
     "output_type": "stream",
     "text": [
      "[ 1, 2, 3, 4 ] [ 1, 2, 3, 4 ]\n"
     ]
    }
   ],
   "source": [
    "let mutable = [1,2,3]; //Array\n",
    "\n",
    "Array.isArray(mutable);\n",
    "\n",
    "let mutableCopy = mutable;\n",
    "\n",
    "mutableCopy.push(4); //aggiunge il valore 4 all'array\n",
    "\n",
    "console.log(mutable, mutableCopy);"
   ]
  },
  {
   "cell_type": "code",
   "execution_count": 8,
   "metadata": {},
   "outputs": [
    {
     "data": {
      "text/plain": [
       "[ \u001b[33m4\u001b[39m, \u001b[33m3\u001b[39m, \u001b[33m2\u001b[39m, \u001b[33m1\u001b[39m ]"
      ]
     },
     "execution_count": 8,
     "metadata": {},
     "output_type": "execute_result"
    }
   ],
   "source": [
    "mutable.sort((a, b)=> b-a); //ordina l'array"
   ]
  },
  {
   "cell_type": "code",
   "execution_count": 9,
   "metadata": {},
   "outputs": [
    {
     "name": "stdout",
     "output_type": "stream",
     "text": [
      "Dentro: Cambiato all'interno della funzione\n",
      "Fuori: Originale\n"
     ]
    }
   ],
   "source": [
    "function modifyPrimitive(value) {\n",
    "    value = \"Cambiato all'interno della funzione\";\n",
    "    console.log(\"Dentro:\", value); // Dentro: Cambiato all'interno della funzione\n",
    "    }\n",
    "\n",
    "    let str = \"Originale\";\n",
    "    modifyPrimitive(str);\n",
    "    console.log(\"Fuori:\", str); // Fuori: Originale"
   ]
  },
  {
   "cell_type": "code",
   "execution_count": 10,
   "metadata": {},
   "outputs": [
    {
     "name": "stdout",
     "output_type": "stream",
     "text": [
      "┌───────┬────────┐\n",
      "│ (idx) │ Values │\n",
      "├───────┼────────┤\n",
      "│ Name  │ \"ABC\"  │\n",
      "│ Age   │ 10     │\n",
      "└───────┴────────┘\n",
      "┌───────┬────────┐\n",
      "│ (idx) │ Values │\n",
      "├───────┼────────┤\n",
      "│ Name  │ \"ABC\"  │\n",
      "│ Age   │ 10     │\n",
      "└───────┴────────┘\n",
      "┌───────┬────────┐\n",
      "│ (idx) │ Values │\n",
      "├───────┼────────┤\n",
      "│ Name  │ \"ABC\"  │\n",
      "│ Age   │ 14     │\n",
      "└───────┴────────┘\n",
      "┌───────┬────────┐\n",
      "│ (idx) │ Values │\n",
      "├───────┼────────┤\n",
      "│ Name  │ \"ABC\"  │\n",
      "│ Age   │ 14     │\n",
      "└───────┴────────┘\n"
     ]
    }
   ],
   "source": [
    "let info = { Name: 'ABC', Age: 10 }; // L'oggetto è memorizzato sull'heap\n",
    "let info1 = info; // info1 e info2 puntano allo stesso riferimento\n",
    "\n",
    "console.table(info); // Output: { name: 'ABC', age: 10 }\n",
    "console.table(info1); // Output: { name: 'ABC', age: 10 }\n",
    "/* \n",
    "Modificare una proprietà riferita da info1 e non modificare il rifereimento␣\n",
    "di info1 farà si che info e info1 recuperino lo stesso oggetto con i valori␣\n",
    "aggiornati\n",
    "*/\n",
    "info1.Age = 14;\n",
    "console.table(info); // Output: { name: 'ABC', age: 14 }\n",
    "console.table(info1); // Output: { name: 'ABC', age: 14 }"
   ]
  },
  {
   "cell_type": "markdown",
   "metadata": {},
   "source": [
    "# titolo\n",
    "\n",
    "## h2\n",
    "\n",
    "### h3"
   ]
  },
  {
   "cell_type": "code",
   "execution_count": 11,
   "metadata": {},
   "outputs": [
    {
     "data": {
      "text/plain": [
       "\u001b[33m1.7976931348623157e+308\u001b[39m"
      ]
     },
     "execution_count": 11,
     "metadata": {},
     "output_type": "execute_result"
    }
   ],
   "source": [
    "Number.MAX_VALUE"
   ]
  },
  {
   "cell_type": "code",
   "execution_count": 12,
   "metadata": {},
   "outputs": [
    {
     "data": {
      "text/plain": [
       "\u001b[33m5e-324\u001b[39m"
      ]
     },
     "execution_count": 12,
     "metadata": {},
     "output_type": "execute_result"
    }
   ],
   "source": [
    "Number.MIN_VALUE"
   ]
  },
  {
   "cell_type": "code",
   "execution_count": 14,
   "metadata": {},
   "outputs": [
    {
     "name": "stdout",
     "output_type": "stream",
     "text": [
      "5\n"
     ]
    }
   ],
   "source": [
    "let arr = [1, 2, 3, 4, 5];\n",
    "console.log(arr.length); // Output: 5"
   ]
  },
  {
   "cell_type": "code",
   "execution_count": 61,
   "metadata": {},
   "outputs": [
    {
     "name": "stdout",
     "output_type": "stream",
     "text": [
      "5\n",
      "[ 1, 2, 6, 5, 5 ]\n"
     ]
    }
   ],
   "source": [
    "let arrLength = arr.push(5);\n",
    "console.log(arrLength); // Output: 6\n",
    "console.log(arr); // Output: [1, 2, 3, 4, 5, 6]"
   ]
  },
  {
   "cell_type": "code",
   "execution_count": 62,
   "metadata": {},
   "outputs": [
    {
     "name": "stdout",
     "output_type": "stream",
     "text": [
      "5\n",
      "[ 1, 2, 6, 5 ]\n"
     ]
    }
   ],
   "source": [
    "let lastElement = arr.pop();\n",
    "console.log(lastElement); // Output: 6\n",
    "console.log(arr); // Output: [1, 2, 3, 4, 5]"
   ]
  },
  {
   "cell_type": "code",
   "execution_count": 63,
   "metadata": {},
   "outputs": [
    {
     "name": "stdout",
     "output_type": "stream",
     "text": [
      "[ 1, 4, 36, 25 ]\n"
     ]
    }
   ],
   "source": [
    "let squares = arr.map(x => x * x);\n",
    "console.log(squares); // Output: [1, 4, 9, 16, 25]"
   ]
  },
  {
   "cell_type": "code",
   "execution_count": 65,
   "metadata": {},
   "outputs": [
    {
     "name": "stdout",
     "output_type": "stream",
     "text": [
      "[ 2, 6 ]\n"
     ]
    }
   ],
   "source": [
    "let evenNumbers = arr.filter(x => x % 2 === 0);\n",
    "console.log(evenNumbers); // Output: [2, 4]"
   ]
  }
 ],
 "metadata": {
  "kernelspec": {
   "display_name": "Deno",
   "language": "typescript",
   "name": "deno"
  },
  "language_info": {
   "file_extension": ".ts",
   "mimetype": "text/x.typescript",
   "name": "typescript",
   "nb_converter": "script",
   "pygments_lexer": "typescript",
   "version": "5.3.3"
  }
 },
 "nbformat": 4,
 "nbformat_minor": 4
}
